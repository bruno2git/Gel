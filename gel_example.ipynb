{
 "cells": [
  {
   "cell_type": "code",
   "execution_count": 1,
   "metadata": {
    "collapsed": true
   },
   "outputs": [],
   "source": [
    "import pydna\n",
    "from Bio.Restriction import BamHI, EcoRV\n",
    "from gel import Gel, Sample, Q_, randDNAseqs, ladders, ladder_from_info, lindivQ\n",
    "\n",
    "# For convenience\n",
    "def printQ(quantities):\n",
    "    for Q in quantities:\n",
    "        print Q"
   ]
  },
  {
   "cell_type": "code",
   "execution_count": 2,
   "metadata": {
    "collapsed": false
   },
   "outputs": [],
   "source": [
    "gb = pydna.Genbank(\"pg25220@alunos.uminho.pt\") # Tell Genbank who you are!"
   ]
  },
  {
   "cell_type": "code",
   "execution_count": 3,
   "metadata": {
    "collapsed": true
   },
   "outputs": [],
   "source": [
    "gene = gb.nucleotide(\"X06997\") # Kluyveromyces lactis LAC12 gene for lactose permease."
   ]
  },
  {
   "cell_type": "code",
   "execution_count": 4,
   "metadata": {
    "collapsed": true
   },
   "outputs": [],
   "source": [
    "primer_f, primer_r = pydna.parse(''' >760_KlLAC12_rv (20-mer)\n",
    "                                     ttaaacagattctgcctctg\n",
    "\n",
    "                                     >759_KlLAC12_fw (19-mer)\n",
    "                                     aaatggcagatcattcgag\n",
    "                                     ''', ds=False)"
   ]
  },
  {
   "cell_type": "code",
   "execution_count": 5,
   "metadata": {
    "collapsed": true
   },
   "outputs": [],
   "source": [
    "pcr_prod = pydna.pcr(primer_f, primer_r, gene)"
   ]
  },
  {
   "cell_type": "code",
   "execution_count": 6,
   "metadata": {
    "collapsed": true
   },
   "outputs": [],
   "source": [
    "vector = gb.nucleotide(\"AJ001614\") # pCAPs cloning vector"
   ]
  },
  {
   "cell_type": "code",
   "execution_count": 7,
   "metadata": {
    "collapsed": true
   },
   "outputs": [],
   "source": [
    "lin_vector = vector.linearize(EcoRV)"
   ]
  },
  {
   "cell_type": "code",
   "execution_count": 8,
   "metadata": {
    "collapsed": true
   },
   "outputs": [],
   "source": [
    "rec_vec = (lin_vector + pcr_prod).looped()"
   ]
  },
  {
   "cell_type": "code",
   "execution_count": 9,
   "metadata": {
    "collapsed": false
   },
   "outputs": [
    {
     "name": "stdout",
     "output_type": "stream",
     "text": [
      "1766\n",
      "4894\n",
      "3128\n"
     ]
    }
   ],
   "source": [
    "print len(pcr_prod)\n",
    "print len(rec_vec)\n",
    "print len(lin_vector)"
   ]
  },
  {
   "cell_type": "markdown",
   "metadata": {},
   "source": [
    "### Realistic Sample - Unknown Quantities\n",
    "\n",
    "**Sample:**\n",
    "\n",
    "**`Sample(solutes=[], quantities=Q_([], 'ng'), volume=Q_(10, 'ul'), endless=False)`**\n",
    "\n",
    "Rudimentary sample object to serve as DNA container.\n",
    "Assumptions:\n",
    "1. Liquid state;\n",
    "2. Homogeneous;\n",
    "3. No chemical reaction;\n",
    "4. Solvent not considered (mere abstraction from volume).\n",
    "\n",
    "**Note:** `Sample` assumes a volume of **10 ul** by default."
   ]
  },
  {
   "cell_type": "code",
   "execution_count": 10,
   "metadata": {
    "collapsed": false
   },
   "outputs": [
    {
     "name": "stdout",
     "output_type": "stream",
     "text": [
      "<sample: vol=10 ul, 3 solutes (nan ng)>\n",
      "+----------------------------------------------+\n",
      "|    Solute             Q (ng)  C (ng/ul)  %   |\n",
      "|----------------------------------------------|\n",
      "| 0  Amplicon(1766)       nan      nan     nan |\n",
      "| 1  Dseqrecord(o4894)    nan      nan     nan |\n",
      "| 2  Dseqrecord(-3128)    nan      nan     nan |\n",
      "|----------------------------------------------|\n",
      "| sample volume = 10.0 ul                      |\n",
      "| solutes quantity = nan ng                    |\n",
      "+----------------------------------------------+\n"
     ]
    }
   ],
   "source": [
    "sample1 = Sample([pcr_prod, rec_vec, lin_vector])\n",
    "print repr(sample1)\n",
    "print sample1"
   ]
  },
  {
   "cell_type": "markdown",
   "metadata": {},
   "source": [
    "### Artificial Sample of Known Sizes - Unknown Quantities\n"
   ]
  },
  {
   "cell_type": "code",
   "execution_count": 11,
   "metadata": {
    "collapsed": false
   },
   "outputs": [
    {
     "name": "stdout",
     "output_type": "stream",
     "text": [
      "<sample: vol=10 ul, 3 solutes (nan ng)>\n",
      "<sample: vol=10 ul, 2 solutes (nan ng)>\n"
     ]
    }
   ],
   "source": [
    "sample2 = Sample(randDNAseqs([500, 1000, 5000]))\n",
    "sample3 = Sample(randDNAseqs([3000, 1500]))\n",
    "print repr(sample2)\n",
    "print repr(sample3)"
   ]
  },
  {
   "cell_type": "markdown",
   "metadata": {},
   "source": [
    "## Gel\n",
    "\n",
    "Agarose slab gel electrophoresis.\n",
    "\n",
    "**`Gel(samples, names, percentgel=Q_(1.0, 'g/ml'), electrfield=Q_(5.0, 'V/cm'), ...)`**\n",
    "\n",
    "**`G.run(till_len=0.75, till_time=None, exposure=0.5, ...)`**\n",
    "\n",
    "* **Note 1:**\n",
    "If no quantity is provided (for all samples) a maximum quantity of **150 ng** is assigned to the longest fragment in each sample.\n",
    "The quantity of the other fragments is assigned considering linear relation between quantity and size.\n",
    "\n",
    "* **Note 2:** Assumes by default an agarose concentration of 1.0 g/ml and an electric field intensity of 5.0 V/cm."
   ]
  },
  {
   "cell_type": "code",
   "execution_count": 12,
   "metadata": {
    "collapsed": false
   },
   "outputs": [
    {
     "name": "stdout",
     "output_type": "stream",
     "text": [
      "[  54.12750306  150.           95.87249694] ng\n",
      "[  15.   30.  150.] ng\n",
      "[ 150.   75.] ng\n"
     ]
    }
   ],
   "source": [
    "samples = [sample1, sample2, sample3]\n",
    "G = Gel(samples)\n",
    "gelpic = G.run()\n",
    "gelpic.show()\n",
    "printQ(G.quantities)"
   ]
  },
  {
   "cell_type": "markdown",
   "metadata": {},
   "source": [
    "### Ladder Standard ###\n",
    "\n",
    "**`ladder_from_info(key, qty=<Quantity(500, 'nanogram')>, vol=<Quantity(12, 'microliter')>)`**\n",
    "\n",
    "Creates a `Sample` respecting the sizes and mass fractions of the ladder standards stored in the dictionary `ladders`."
   ]
  },
  {
   "cell_type": "code",
   "execution_count": 13,
   "metadata": {
    "collapsed": false
   },
   "outputs": [
    {
     "data": {
      "text/plain": [
       "['Mix_GeneRuler', '1kb+_GeneRuler', 'High_Range_GeneRuler', '1kb_GeneRuler']"
      ]
     },
     "execution_count": 13,
     "metadata": {},
     "output_type": "execute_result"
    }
   ],
   "source": [
    "ladders.keys()"
   ]
  },
  {
   "cell_type": "code",
   "execution_count": 14,
   "metadata": {
    "collapsed": false
   },
   "outputs": [
    {
     "name": "stdout",
     "output_type": "stream",
     "text": [
      "+-----------------------------------------------------------------+\n",
      "|     Solute                              Q (ng)  C (ng/ul)   %   |\n",
      "|-----------------------------------------------------------------|\n",
      "|  0  Dseq(-10000)/gggc..ttag/cccg..aatc   30.0     2.50      6.0 |\n",
      "|  1  Dseq(-8000)/tcac..ttca/agtg..aagt    30.0     2.50      6.0 |\n",
      "|  2  Dseq(-6000)/aggc..atga/tccg..tact    70.0     5.83     14.0 |\n",
      "|  3  Dseq(-5000)/acgc..ttcg/tgcg..aagc    30.0     2.50      6.0 |\n",
      "|  4  Dseq(-4000)/aagg..gggc/ttcc..cccg    30.0     2.50      6.0 |\n",
      "|  5  Dseq(-3500)/ttat..cata/aata..gtat    30.0     2.50      6.0 |\n",
      "|  6  Dseq(-3000)/aaca..acca/ttgt..tggt    70.0     5.83     14.0 |\n",
      "|  7  Dseq(-2500)/caaa..gttc/gttt..caag    25.0     2.08      5.0 |\n",
      "|  8  Dseq(-2000)/tgaa..cacg/actt..gtgc    25.0     2.08      5.0 |\n",
      "|  9  Dseq(-1500)/aggt..gcac/tcca..cgtg    25.0     2.08      5.0 |\n",
      "| 10  Dseq(-1000)/ggtc..agct/ccag..tcga    60.0     5.00     12.0 |\n",
      "| 11  Dseq(-750)/tcgt..tgtc/agca..acag     25.0     2.08      5.0 |\n",
      "| 12  Dseq(-500)/acct..acct/tgga..tgga     25.0     2.08      5.0 |\n",
      "| 13  Dseq(-250)/ggct..gcct/ccga..cgga     25.0     2.08      5.0 |\n",
      "|-----------------------------------------------------------------|\n",
      "| sample volume = 12.0 ul                                         |\n",
      "| solutes quantity = 500.0 ng                                     |\n",
      "+-----------------------------------------------------------------+\n"
     ]
    }
   ],
   "source": [
    "ladder = ladder_from_info('1kb_GeneRuler')\n",
    "print ladder"
   ]
  },
  {
   "cell_type": "markdown",
   "metadata": {},
   "source": [
    "**Gel**\n",
    "\n",
    "**Note:**\n",
    "If the quantities of some samples are provided (the ladder in this case) the maximum quantity provided is taken as reference for the longest fragment of each sample with unknown quantities (in order to keep them in the same scale).\n",
    "The quantity of the other fragments is assigned considering linear relation between quantity and size."
   ]
  },
  {
   "cell_type": "code",
   "execution_count": 15,
   "metadata": {
    "collapsed": false
   },
   "outputs": [
    {
     "name": "stdout",
     "output_type": "stream",
     "text": [
      "[ 25.25950143  70.          44.74049857] ng\n",
      "[  7.  14.  70.] ng\n",
      "[ 70.  35.] ng\n",
      "[ 30.  30.  70.  30.  30.  30.  70.  25.  25.  25.  60.  25.  25.  25.] ng\n"
     ]
    }
   ],
   "source": [
    "samples = [sample1, sample2, sample3, ladder]\n",
    "G = Gel(samples)\n",
    "gelpic = G.run()\n",
    "gelpic.show()\n",
    "printQ(G.quantities)"
   ]
  },
  {
   "cell_type": "markdown",
   "metadata": {},
   "source": [
    "### Assigning Quantities\n",
    "\n",
    "#### By Hand\n",
    "\n",
    "**Note:** If no units are provided, nanograms are assumed.\n",
    "\n"
   ]
  },
  {
   "cell_type": "code",
   "execution_count": 16,
   "metadata": {
    "collapsed": false
   },
   "outputs": [
    {
     "name": "stdout",
     "output_type": "stream",
     "text": [
      "+---------------------------------------------------------------+\n",
      "|    Solute                             Q (ng)  C (ng/ul)   %   |\n",
      "|---------------------------------------------------------------|\n",
      "| 0  Dseq(-3000)/tcgg..gaca/agcc..ctgt  100.0     7.14     50.0 |\n",
      "| 1  Dseq(-1500)/cgca..tccg/gcgt..aggc  100.0     7.14     50.0 |\n",
      "|---------------------------------------------------------------|\n",
      "| sample volume = 14.0 ul                                       |\n",
      "| solutes quantity = 200.0 ng                                   |\n",
      "+---------------------------------------------------------------+\n"
     ]
    }
   ],
   "source": [
    "dseqs3 = randDNAseqs([3000, 1500])\n",
    "qts3 = [100, 100]\n",
    "sample3 = Sample(dseqs3, qts3, Q_(14, 'ul'))\n",
    "print sample3"
   ]
  },
  {
   "cell_type": "markdown",
   "metadata": {},
   "source": [
    "#### Linearly Dividing a Total Quantity\n",
    "\n",
    "**Note:** For fragments resulting from a digestion with restriction enzyme procedure, for example, the mass of the fragments is proportional to their size. Lets assume that is the case and that we have a total mass of 200 ng."
   ]
  },
  {
   "cell_type": "code",
   "execution_count": 17,
   "metadata": {
    "collapsed": false
   },
   "outputs": [
    {
     "name": "stdout",
     "output_type": "stream",
     "text": [
      "+---------------------------------------------------------------+\n",
      "|    Solute                             Q (ng)  C (ng/ul)   %   |\n",
      "|---------------------------------------------------------------|\n",
      "| 0  Dseq(-500)/gggc..gtac/cccg..catg    15.4     1.10      7.7 |\n",
      "| 1  Dseq(-1000)/aatt..atgt/ttaa..taca   30.8     2.20     15.4 |\n",
      "| 2  Dseq(-5000)/atgg..gatt/tacc..ctaa  153.8    10.99     76.9 |\n",
      "|---------------------------------------------------------------|\n",
      "| sample volume = 14.0 ul                                       |\n",
      "| solutes quantity = 200.0 ng                                   |\n",
      "+---------------------------------------------------------------+\n"
     ]
    }
   ],
   "source": [
    "dseqs2 = randDNAseqs([500, 1000, 5000])\n",
    "qts2 = lindivQ(dseqs2, 200)\n",
    "sample2 = Sample(dseqs2, qts2, Q_(14, 'ul'))\n",
    "print sample2"
   ]
  },
  {
   "cell_type": "markdown",
   "metadata": {},
   "source": [
    "**Gel**\n",
    "\n",
    "**Note:**\n",
    "Notice the quantities now. They were all previously assigned with the exception of `sample1` (the realistic one) which assumed 153.85 ng as the mass of its longest fragment."
   ]
  },
  {
   "cell_type": "code",
   "execution_count": 18,
   "metadata": {
    "collapsed": false
   },
   "outputs": [
    {
     "name": "stdout",
     "output_type": "stream",
     "text": [
      "[ 30.  30.  70.  30.  30.  30.  70.  25.  25.  25.  60.  25.  25.  25.] ng\n",
      "[  55.51538776  153.84615385   98.33076609] ng\n",
      "[  15.38461538   30.76923077  153.84615385] ng\n",
      "[100 100] ng\n"
     ]
    }
   ],
   "source": [
    "samples = [ladder, sample1, sample2, sample3]\n",
    "G = Gel(samples)\n",
    "gelpic = G.run()\n",
    "gelpic.show()\n",
    "printQ(G.quantities)"
   ]
  }
 ],
 "metadata": {
  "kernelspec": {
   "display_name": "Python 2",
   "language": "python",
   "name": "python2"
  },
  "language_info": {
   "codemirror_mode": {
    "name": "ipython",
    "version": 2
   },
   "file_extension": ".py",
   "mimetype": "text/x-python",
   "name": "python",
   "nbconvert_exporter": "python",
   "pygments_lexer": "ipython2",
   "version": "2.7.10"
  }
 },
 "nbformat": 4,
 "nbformat_minor": 0
}
